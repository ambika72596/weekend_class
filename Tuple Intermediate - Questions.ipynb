{
 "cells": [
  {
   "cell_type": "code",
   "execution_count": 3,
   "metadata": {},
   "outputs": [
    {
     "name": "stdout",
     "output_type": "stream",
     "text": [
      "[(1, 3, 8), (2, 4, 9)]\n"
     ]
    }
   ],
   "source": [
    "# 1. Write a Python program to unzip a list of tuples into individual lists.\n",
    "#     Data:\n",
    "#         x = [(1,2), (3,4), (8,9)]\n",
    "#     Expected Output:\n",
    "#         [(1, 3, 8), (2, 4, 9)]\n",
    "\n",
    "x = [(1, 2), (3, 4), (8, 9)]\n",
    "\n",
    "unzipped = list(zip(*x))\n",
    "print(unzipped)"
   ]
  },
  {
   "cell_type": "code",
   "execution_count": 7,
   "metadata": {},
   "outputs": [
    {
     "name": "stdout",
     "output_type": "stream",
     "text": [
      "This is a tuple (10, 20, 30)\n"
     ]
    }
   ],
   "source": [
    "# 2. Write a Python program to print a tuple with string formatting.\n",
    "#     Data:\n",
    "#         x = (10, 20, 30)\n",
    "#     Expected Output:\n",
    "#         This is a tuple (10, 20, 30)\n",
    "\n",
    "x = (10, 20, 30)\n",
    "print(f\"This is a tuple {x}\")\n",
    "\n",
    "        "
   ]
  },
  {
   "cell_type": "code",
   "execution_count": 9,
   "metadata": {},
   "outputs": [
    {
     "name": "stdout",
     "output_type": "stream",
     "text": [
      "[(80, 60, 100), (40, 90, 100), (20, 40, 100)]\n"
     ]
    }
   ],
   "source": [
    "# 3. Write a Python program to replace last values of tuples in a list.\n",
    "#     Data:\n",
    "#         x= [(80, 60, 40), (40, 90, 60), (20, 40, 90)]\n",
    "#     Expected Output:\n",
    "#         [(80, 60, 100), (40, 90, 100), (20, 40, 100)]\n",
    "\n",
    "x = [(80, 60, 40), (40, 90, 60), (20, 40, 90)]\n",
    "\n",
    "result = [t[:-1] + (100,) for t in x]\n",
    "print(result)      \n",
    "        "
   ]
  },
  {
   "cell_type": "code",
   "execution_count": 10,
   "metadata": {},
   "outputs": [
    {
     "name": "stdout",
     "output_type": "stream",
     "text": [
      "[('',), ('a', 'b'), ('c', 'd', 'e'), 'f']\n"
     ]
    }
   ],
   "source": [
    "# 4. Write a Python program to remove an empty tuple(s) from a list of tuples.\n",
    "#     Data:\n",
    "#         X = [(), (), ('',), ('a', 'b'), ('c', 'd', 'e'), ('f')] \n",
    "#     Expected Output:\n",
    "#         [('',), ('a', 'b'), ('c', 'd', 'e'), 'f']   \n",
    "\n",
    "X = [(), (), ('',), ('a', 'b'), ('c', 'd', 'e'), ('f')]\n",
    "\n",
    "result = [t for t in X if t != ()]\n",
    "print(result)\n",
    "        \n",
    "        "
   ]
  },
  {
   "cell_type": "code",
   "execution_count": 11,
   "metadata": {},
   "outputs": [
    {
     "name": "stdout",
     "output_type": "stream",
     "text": [
      "[(40, 90, 60), (80, 60, 40), (20, 40, 90)]\n"
     ]
    }
   ],
   "source": [
    "# 5. Write a Python program to sort a tuple by its element specified in float.\n",
    "#     Data:\n",
    "#         x = [('item1', '29.20'), ('item2', '49.10'), ('item3', '33.5')]\n",
    "#     Expected Output:\n",
    "#         [('item2', '49.10'), ('item3', '33.5'), ('item1', '29.20')]\n",
    "\n",
    "# x = [('item1', '29.20'), ('item2', '49.10'), ('item3', '33.5')]\n",
    "\n",
    "sorted_x = sorted(x, key=lambda item: float(item[1]), reverse=True)\n",
    "print(sorted_x)\n",
    "        \n",
    "        "
   ]
  },
  {
   "cell_type": "code",
   "execution_count": 12,
   "metadata": {},
   "outputs": [
    {
     "name": "stdout",
     "output_type": "stream",
     "text": [
      "3\n"
     ]
    }
   ],
   "source": [
    "# 6. Write a Python program to count the elements in a list until an element is a tuple.\n",
    "#     Data:\n",
    "#         x = [10,20,30,(10,20),40]\n",
    "#         y = 0\n",
    "#     Expected Output:\n",
    "#         3\n",
    "\n",
    "x = [10, 20, 30, (10, 20), 40]\n",
    "y = 0\n",
    "\n",
    "for element in x:\n",
    "    if isinstance(element, tuple):\n",
    "        break\n",
    "    y += 1\n",
    "\n",
    "print(y)\n",
    "        \n",
    "        "
   ]
  },
  {
   "cell_type": "code",
   "execution_count": 13,
   "metadata": {},
   "outputs": [
    {
     "name": "stdout",
     "output_type": "stream",
     "text": [
      "(('c', 11), ('a', 23), ('d', 29), ('b', 37))\n"
     ]
    }
   ],
   "source": [
    "# 7. Write a Python program to Sort a tuple of tuples by 2nd item.\n",
    "#     Data:\n",
    "#         x = (('a', 23),('b', 37),('c', 11), ('d',29))\n",
    "#     Expected Output:\n",
    "#         (('c', 11), ('a', 23), ('d', 29), ('b', 37))\n",
    "\n",
    "x = (('a', 23), ('b', 37), ('c', 11), ('d', 29))\n",
    "\n",
    "sorted_x = tuple(sorted(x, key=lambda t: t[1]))\n",
    "print(sorted_x)\n",
    "        \n",
    "        "
   ]
  },
  {
   "cell_type": "code",
   "execution_count": 14,
   "metadata": {},
   "outputs": [
    {
     "name": "stdout",
     "output_type": "stream",
     "text": [
      "True\n"
     ]
    }
   ],
   "source": [
    "# 8. Write a Python program to Check whether all items in a tuple are the same.\n",
    "#     Data:\n",
    "#         y = (45, 45, 45, 45)\n",
    "#     Expected Output:\n",
    "#         True\n",
    "\n",
    "y = (45, 45, 45, 45)\n",
    "\n",
    "result = len(set(y)) == 1\n",
    "print(result)\n",
    "        \n",
    "        "
   ]
  },
  {
   "cell_type": "code",
   "execution_count": 15,
   "metadata": {},
   "outputs": [
    {
     "name": "stdout",
     "output_type": "stream",
     "text": [
      "78.57142857142857\n"
     ]
    }
   ],
   "source": [
    "# 9. Write a Python program to calculate the area of a circle by sending the value of radius in a tuple.\n",
    "#     Data:\n",
    "#         a = (5)\n",
    "#     Expected Output:\n",
    "#         78.57142857142857\n",
    "        \n",
    "a = (5,)\n",
    "radius = a[0]\n",
    "pi = 22 / 7\n",
    "area = pi * (radius ** 2)\n",
    "print(area)        "
   ]
  },
  {
   "cell_type": "code",
   "execution_count": 17,
   "metadata": {},
   "outputs": [
    {
     "name": "stdout",
     "output_type": "stream",
     "text": [
      "12.571428571428571\n"
     ]
    }
   ],
   "source": [
    "# 10. Write a Python program to calculate the circumference of a circle by sending the value of radius in a tuple.\n",
    "#     Data:\n",
    "#         a = (2)\n",
    "#     Expected Output:\n",
    "#         12.571428571428571        \n",
    "a = (2,)\n",
    "radius = a[0]\n",
    "pi = 22 / 7\n",
    "circumference = 2 * pi * radius\n",
    "print(circumference)\n",
    "        \n",
    "        "
   ]
  },
  {
   "cell_type": "code",
   "execution_count": 18,
   "metadata": {},
   "outputs": [
    {
     "name": "stdout",
     "output_type": "stream",
     "text": [
      "12\n"
     ]
    }
   ],
   "source": [
    "# 11. Write a Python program to calculate the perimeter of a square by sending the value of side in a tuple.\n",
    "#     Data:\n",
    "#         a = (3)\n",
    "#     Expected Output:\n",
    "#         12\n",
    "a = (3,)\n",
    "side = a[0]\n",
    "perimeter = 4 * side\n",
    "print(perimeter)\n",
    "        \n",
    "        "
   ]
  },
  {
   "cell_type": "code",
   "execution_count": 19,
   "metadata": {},
   "outputs": [
    {
     "name": "stdout",
     "output_type": "stream",
     "text": [
      "391.0\n"
     ]
    }
   ],
   "source": [
    "# 12. Write a Python program to calculate the area of a traingle by sending the value of height and base in a tuple.\n",
    "#     Data:\n",
    "#         h = (23)\n",
    "#         b = (34)\n",
    "#     Expected Output:\n",
    "#         391.0\n",
    "h = (23,)\n",
    "b = (34,)\n",
    "height = h[0]\n",
    "base = b[0]\n",
    "area = (base * height) / 2\n",
    "print(area)        \n",
    "        "
   ]
  },
  {
   "cell_type": "code",
   "execution_count": 20,
   "metadata": {},
   "outputs": [
    {
     "name": "stdout",
     "output_type": "stream",
     "text": [
      "()\n",
      "(1, 2, 3)\n",
      "(1, 'Hello', 3.4)\n",
      "('HI', [8, 4, 6], (1, 2, 3))\n"
     ]
    }
   ],
   "source": [
    "# 13. Write a Python program to create a tuple with elements of different data types.\n",
    "#     Expected Output:\n",
    "#         ()\n",
    "#         (1, 2, 3)\n",
    "#         (1, 'Hello', 3.4)\n",
    "#         ('HI', [8, 4, 6], (1, 2, 3))\n",
    "tuple1 = ()\n",
    "print(tuple1)\n",
    "\n",
    "tuple2 = (1, 2, 3)\n",
    "print(tuple2)\n",
    "\n",
    "tuple3 = (1, 'Hello', 3.4)\n",
    "print(tuple3)\n",
    "\n",
    "tuple4 = ('HI', [8, 4, 6], (1, 2, 3))\n",
    "print(tuple4)       \n",
    "        "
   ]
  },
  {
   "cell_type": "code",
   "execution_count": 21,
   "metadata": {},
   "outputs": [
    {
     "name": "stdout",
     "output_type": "stream",
     "text": [
      "(3, 4.6, 'dog')\n",
      "3\n",
      "4.6\n",
      "dog\n"
     ]
    }
   ],
   "source": [
    "# 14. Write a Python program to unpack a tuple in several variables.\n",
    "#     Data:\n",
    "#         x = 3, 4.6, \"dog\"\n",
    "#     Expected Output:\n",
    "#         (3, 4.6, 'dog')\n",
    "#         3\n",
    "#         4.6\n",
    "#         dog\n",
    "x = 3, 4.6, \"dog\"\n",
    "print(x)\n",
    "\n",
    "a, b, c = x\n",
    "print(a)\n",
    "print(b)\n",
    "print(c)     \n",
    "        "
   ]
  },
  {
   "cell_type": "code",
   "execution_count": 22,
   "metadata": {},
   "outputs": [
    {
     "name": "stdout",
     "output_type": "stream",
     "text": [
      "(4, 2, 3, [9, 5])\n"
     ]
    }
   ],
   "source": [
    "# 15. Write a Python program to update the value \"6\" to \"9\" which is present in a tuple using index. \n",
    "#     Data:\n",
    "#         x = (4, 2, 3, [6, 5])\n",
    "#     Expected Output:\n",
    "#         (4, 2, 3, [9, 5])\n",
    "\n",
    "x = (4, 2, 3, [6, 5])\n",
    "x[3][0] = 9\n",
    "print(x)\n",
    "        \n",
    "        "
   ]
  },
  {
   "cell_type": "code",
   "execution_count": 28,
   "metadata": {},
   "outputs": [
    {
     "name": "stdout",
     "output_type": "stream",
     "text": [
      "yes Bihar is present in the given tuple\n",
      "\n",
      "Bihar\n",
      "Odisha\n",
      "Assam\n"
     ]
    }
   ],
   "source": [
    "# 16. Write a Python program to check whether an element is present in a given tuple using the keyword in. Print the elements of a tuple one by one.\n",
    "#     Data:\n",
    "#         x = (\"Bihar\", \"Odisha\", \"Assam\") \n",
    "#     Expected Output:\n",
    "#         yes Bihar is present in the given tuple\n",
    "\n",
    "#         Bihar\n",
    "#         Odisha\n",
    "#         Assam\n",
    "x = (\"Bihar\", \"Odisha\", \"Assam\") \n",
    "if \"Bihar\" in x:\n",
    "    print(\"yes Bihar is present in the given tuple\\n\")\n",
    "for i in x:\n",
    "    print(i)\n",
    "       "
   ]
  },
  {
   "cell_type": "code",
   "execution_count": 30,
   "metadata": {},
   "outputs": [
    {
     "name": "stdout",
     "output_type": "stream",
     "text": [
      "False\n",
      "True\n"
     ]
    }
   ],
   "source": [
    "# 17. Write a Python program to check whether an element is not present in a given tuple using the keyword not in. Print the elements of a tuple one by one.\n",
    "#     Data:\n",
    "#         x = (\"Bihar\", \"Odisha\", \"Assam\")\n",
    "#     Expected Output:\n",
    "#         False\n",
    "#         True        \n",
    "x = (\"Bihar\", \"Odisha\", \"Assam\")\n",
    "\n",
    "print(\"Bihar\" not in x) \n",
    "print(\"Bihar\" in x)  \n",
    "        \n",
    "\n",
    "        "
   ]
  },
  {
   "cell_type": "code",
   "execution_count": 31,
   "metadata": {},
   "outputs": [
    {
     "name": "stdout",
     "output_type": "stream",
     "text": [
      "Both statements are True\n",
      "any one statements are True\n"
     ]
    }
   ],
   "source": [
    "# ''' 18. Write a Python program to print the following output from given tuple (5 > 3 and 5 < 10 )and (5 > 3 or 5 > 10) is True or False.\n",
    "#     Expected Output:\n",
    "#         Both statements are True\n",
    "#         any one statements are True '''\n",
    "x = (5 > 3 and 5 < 10)\n",
    "y = (5 > 3 or 5 > 10)\n",
    "\n",
    "\n",
    "if x and y:\n",
    "    print(\"Both statements are True\")\n",
    "\n",
    "if x or y:\n",
    "    print(\"any one statements are True\")\n",
    "   \n",
    "        "
   ]
  },
  {
   "cell_type": "code",
   "execution_count": 33,
   "metadata": {},
   "outputs": [
    {
     "name": "stdout",
     "output_type": "stream",
     "text": [
      "bala\n",
      "suresh\n"
     ]
    }
   ],
   "source": [
    "# 19. Write a Python program to print an element from a given tuple using index and negative index.\n",
    "#     Data:\n",
    "#         x = (\"boss\", \"bala\", \"suresh\")\n",
    "#     Expected Output:\n",
    "#         bala\n",
    "#         suresh\n",
    "x = (\"boss\", \"bala\", \"suresh\")\n",
    "print(x[1])\n",
    "print(x[-1])\n",
    "        "
   ]
  },
  {
   "cell_type": "code",
   "execution_count": 34,
   "metadata": {},
   "outputs": [
    {
     "name": "stdout",
     "output_type": "stream",
     "text": [
      "('Strawberry', 'Vennila', 'Chocobar', 'Blackberry', 'Salad')\n",
      "('Vennila', 'Chocobar', 'Blackberry')\n"
     ]
    }
   ],
   "source": [
    "# 20. Write a Python program to print the elements of a given tuple using range of indices and range of negative indices.\n",
    "#     Data:\n",
    "#         x = (\"Magnum\", \"Pistah\", \"Strawberry\", \"Vennila\", \"Chocobar\", \"Blackberry\", \"Salad\")\n",
    "#     Range of Indexes,Range of Negative Indexes.\n",
    "#     Expected Output:\n",
    "#         ('Strawberry', 'Vennila', 'Chocobar', 'Blackberry', 'Salad')\n",
    "#         ('Vennila', 'Chocobar', 'Blackberry') \n",
    "\n",
    "x = (\"Magnum\", \"Pistah\", \"Strawberry\", \"Vennila\", \"Chocobar\", \"Blackberry\", \"Salad\")\n",
    "\n",
    "print(x[2:7])   \n",
    "\n",
    "print(x[-4:-1]) \n",
    "        \n",
    "        "
   ]
  },
  {
   "cell_type": "code",
   "execution_count": null,
   "metadata": {},
   "outputs": [],
   "source": [
    "#Doubt:- There is no tuple here. Question not understood.  #Question number 18"
   ]
  }
 ],
 "metadata": {
  "kernelspec": {
   "display_name": "Python 3 (ipykernel)",
   "language": "python",
   "name": "python3"
  },
  "language_info": {
   "codemirror_mode": {
    "name": "ipython",
    "version": 3
   },
   "file_extension": ".py",
   "mimetype": "text/x-python",
   "name": "python",
   "nbconvert_exporter": "python",
   "pygments_lexer": "ipython3",
   "version": "3.12.7"
  }
 },
 "nbformat": 4,
 "nbformat_minor": 4
}
