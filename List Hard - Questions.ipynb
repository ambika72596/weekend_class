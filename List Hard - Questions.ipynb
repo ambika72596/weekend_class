{
 "cells": [
  {
   "cell_type": "markdown",
   "metadata": {},
   "source": [
    "# List Hard Questions"
   ]
  },
  {
   "cell_type": "code",
   "execution_count": 1,
   "metadata": {},
   "outputs": [
    {
     "name": "stdout",
     "output_type": "stream",
     "text": [
      "Rotate the said list in left direction by 4:\n",
      "[5, 6, 7, 8, 9, 10, 1, 2, 3, 4]\n",
      "Rotate the said list in left direction by 2:\n",
      "[3, 4, 5, 6, 7, 8, 9, 10, 1, 2]\n",
      "Rotate the said list in right direction by 4:\n",
      "[7, 8, 9, 10, 1, 2, 3, 4, 5, 6]\n",
      "Rotate the said list in right direction by 2:\n",
      "[9, 10, 1, 2, 3, 4, 5, 6, 7, 8]\n"
     ]
    }
   ],
   "source": [
    "# ''' 1. Write a Python program to rotate a given list by specified number of items to the right or left direction.\n",
    "#     Data:\n",
    "#         [1, 2, 3, 4, 5, 6, 7, 8, 9, 10]\n",
    "#     Expected Output:\n",
    "#         Rotate the said list in left direction by 4:\n",
    "#         [4, 5, 6, 7, 8, 9, 10, 1, 2, 3, 4]\n",
    "#         Rotate the said list in left direction by 2:\n",
    "#         [3, 4, 5, 6, 7, 8, 9, 10, 1, 2]\n",
    "#         Rotate the said list in Right direction by 4:\n",
    "#         [8, 9, 10, 1, 2, 3, 4, 5, 6]\n",
    "#         Rotate the said list in Right direction by 2:\n",
    "#         [9, 10, 1, 2, 3, 4, 5, 6, 7, 8]  '''\n",
    "def rotate_list(lst, n, direction='left'):\n",
    "    n = n % len(lst)\n",
    "    if direction == 'left':\n",
    "        return lst[n:] + lst[:n]\n",
    "    elif direction == 'right':\n",
    "        return lst[-n:] + lst[:-n]\n",
    "    else:\n",
    "        raise ValueError(\"Direction must be 'left' or 'right'.\")\n",
    "\n",
    "data = [1, 2, 3, 4, 5, 6, 7, 8, 9, 10]\n",
    "\n",
    "print(\"Rotate the said list in left direction by 4:\")\n",
    "print(rotate_list(data, 4, 'left'))\n",
    "\n",
    "print(\"Rotate the said list in left direction by 2:\")\n",
    "print(rotate_list(data, 2, 'left'))\n",
    "\n",
    "print(\"Rotate the said list in right direction by 4:\")\n",
    "print(rotate_list(data, 4, 'right'))\n",
    "\n",
    "print(\"Rotate the said list in right direction by 2:\")\n",
    "print(rotate_list(data, 2, 'right'))      \n",
    "        \n",
    "        \n",
    "        "
   ]
  },
  {
   "cell_type": "code",
   "execution_count": 8,
   "metadata": {},
   "outputs": [
    {
     "name": "stdout",
     "output_type": "stream",
     "text": [
      "Item with maximum occurrences of the said list:\n",
      "2\n"
     ]
    }
   ],
   "source": [
    "# ''' 2. Write a Python program to find an element which has maximum occurrences in a given list. \n",
    "#     Data:\n",
    "#         [2,3,8,4,7,9,9,2,6,5,1,6,1,3,3,4,6,9,1,2]\n",
    "#     Expected Output:\n",
    "#         Item with maximum occurrences of the said list:\n",
    "#             2 '''\n",
    "lst=[2,3,8,4,7,9,9,2,6,5,1,6,1,3,3,4,6,9,1,2]          \n",
    "counts = {}\n",
    "for item in lst:\n",
    "    if item in counts:\n",
    "        counts[item] += 1\n",
    "    else:\n",
    "        counts[item] = 1\n",
    "max_item = max(counts, key=counts.get)\n",
    "print(\"Item with maximum occurrences of the said list:\")\n",
    "print(max_item)  \n",
    "            \n",
    "            "
   ]
  },
  {
   "cell_type": "code",
   "execution_count": 30,
   "metadata": {},
   "outputs": [
    {
     "name": "stdout",
     "output_type": "stream",
     "text": [
      "Index list:\n",
      "[0, 3, 5, 7, 10]\n",
      "\n",
      "Items with specified index of the said list:\n",
      "[2, 4, 9, 2, 1]\n"
     ]
    }
   ],
   "source": [
    "# ''' 3. Write a Python program to access multiple elements of specified index from a given list. \n",
    "#     Data:\n",
    "#         [2,3,8,4,7,9,7,2,6,5,1,5,1,2,3,4,6,9,3,2]\n",
    "#     Expected Output:\n",
    "#         Index list:\n",
    "#         [0, 3, 5, 7, 10]\n",
    "\n",
    "#         Items with specified index of the said list:\n",
    "#         [2, 4, 9, 2, 1] '''\n",
    "data = [2, 3, 8, 4, 7, 9, 7, 2, 6, 5, 1, 5, 1, 2, 3, 4, 6, 9, 3, 2]\n",
    "index_list = [0, 3, 5, 7, 10]\n",
    "\n",
    "selected_items = []\n",
    "for idx in index_list:\n",
    "    selected_items.append(data[idx])\n",
    "\n",
    "print(\"Index list:\")\n",
    "print(index_list)\n",
    "print(\"\\nItems with specified index of the said list:\")\n",
    "print(selected_items)\n",
    "        \n",
    "        \n",
    "        \n",
    "        "
   ]
  },
  {
   "cell_type": "code",
   "execution_count": 13,
   "metadata": {},
   "outputs": [
    {
     "name": "stdout",
     "output_type": "stream",
     "text": [
      "Is the said list is sorted!\n",
      "True\n",
      "Is the said list is sorted!\n",
      "False\n"
     ]
    }
   ],
   "source": [
    "''' 4. Write a Python program to check whether the given list is sorted or not. Return True if yes, false if not.\n",
    "    Data:\n",
    "        Original list:\n",
    "        [1, 2, 4, 6, 8, 10, 12, 14, 16, 17]\n",
    "        [2, 3, 8, 4, 7, 9, 8, 2, 6, 5, 1, 6, 1, 2, 3, 4, 6, 9, 1, 2]\n",
    "    Expected Output:\n",
    "        Is the said list is sorted!\n",
    "        True\n",
    "        Is the said list is sorted!\n",
    "        False '''\n",
    "def is_sorted(lst):\n",
    "    for i in range(len(lst) - 1):\n",
    "        if lst[i] > lst[i + 1]:\n",
    "            return False\n",
    "    return True\n",
    "\n",
    "lst1 = [1, 2, 4, 6, 8, 10, 12, 14, 16, 17]\n",
    "lst2 = [2, 3, 8, 4, 7, 9, 8, 2, 6, 5, 1, 6, 1, 2, 3, 4, 6, 9, 1, 2]\n",
    "\n",
    "print(\"Is the said list is sorted!\")\n",
    "print(is_sorted(lst1)) \n",
    "\n",
    "print(\"Is the said list is sorted!\")\n",
    "print(is_sorted(lst2)) \n",
    "\n",
    "        \n",
    "        "
   ]
  },
  {
   "cell_type": "code",
   "execution_count": 27,
   "metadata": {},
   "outputs": [
    {
     "name": "stdout",
     "output_type": "stream",
     "text": [
      "After removing duplicate dictionary of the said list:\n",
      "[{'Black': 'Cotton'}, {'Red': 'Pulses'}, {'Laterite': 'Cashews'}, {'Alluvial': 'Rice'}]\n"
     ]
    }
   ],
   "source": [
    "''' 5. Write a Python program to remove duplicate dictionary from a given list. \n",
    "    Data:\n",
    "        l = [{'Black': 'Cotton'}, {'Red': 'Pulses'}, {'Laterite': 'Cashews'}, {'Black': 'Cotton'}, {'Alluvial': 'Rice'}]\n",
    "    Expected Output:\n",
    "        After removing duplicate dictionary of the said list:\n",
    "        [{'Black': 'Cotton'}, {'Red': 'Pulses'}, {'Laterite': 'Cashews'}, {'Alluvial': 'Rice'}] '''\n",
    "        \n",
    "l = [{'Black': 'Cotton'}, {'Red': 'Pulses'}, {'Laterite': 'Cashews'}, {'Black': 'Cotton'}, {'Alluvial': 'Rice'}]\n",
    "new_list=[]\n",
    "for d in l:\n",
    "    if d not in new_list:\n",
    "        new_list.append(d)\n",
    "print(\"After removing duplicate dictionary of the said list:\")\n",
    "print(new_list)\n",
    "        \n",
    "        "
   ]
  },
  {
   "cell_type": "code",
   "execution_count": 31,
   "metadata": {},
   "outputs": [
    {
     "name": "stdout",
     "output_type": "stream",
     "text": [
      "Extract nth element ( n = 0 ) from the said list of tuples:\n",
      "['boss', 'kumar', 'karthi', 'siva']\n",
      "\n",
      "Extract nth element ( n = 2 ) from the said list of tuples:\n",
      "[99, 96, 94, 98]\n"
     ]
    }
   ],
   "source": [
    "# ''' 6. Write a Python program to extract the nth element from a given list of tuples. \n",
    "#     Data:\n",
    "#         [('boss', 98, 99), ('kumar', 97, 96), ('karthi', 91, 94), ('siva', 94, 98)]\n",
    "#     Expected Output:\n",
    "#         Extract nth element ( n = 0 ) from the said list of tuples:\n",
    "#         ['boss', 'kumar', 'karthi', 'siva']\n",
    "\n",
    "#         Extract nth element ( n = 2 ) from the said list of tuples:\n",
    "#         [99, 96, 94, 98] '''\n",
    "        \n",
    "data = [('boss', 98, 99), ('kumar', 97, 96), ('karthi', 91, 94), ('siva', 94, 98)]\n",
    "\n",
    "def extract_nth_element(tuples_list, n):\n",
    "    result = []\n",
    "    for tup in tuples_list:\n",
    "        result.append(tup[n])\n",
    "    return result\n",
    "\n",
    "n = 0\n",
    "print(f\"Extract nth element ( n = {n} ) from the said list of tuples:\")\n",
    "print(extract_nth_element(data, n))\n",
    "\n",
    "n = 2\n",
    "print(f\"\\nExtract nth element ( n = {n} ) from the said list of tuples:\")\n",
    "print(extract_nth_element(data, n))\n",
    "        \n",
    "        "
   ]
  },
  {
   "cell_type": "code",
   "execution_count": 14,
   "metadata": {},
   "outputs": [
    {
     "name": "stdout",
     "output_type": "stream",
     "text": [
      "Is the said list contains all unique elements!\n",
      "False\n",
      "Is the said list contains all unique elements!\n",
      "True\n"
     ]
    }
   ],
   "source": [
    "''' 7. Write a Python program to check whether the elements of a given list are unique or not.\n",
    "    Data:\n",
    "        [3, 7, 4, 6, 8, 2, 1, 4, 10, 11, 14, 12, 16, 17]\n",
    "        [2, 4, 6, 8, 10, 12, 14]\n",
    "    Expected Output:\n",
    "        Is the said list contains all unique elements!\n",
    "        False\n",
    "        Is the said list contains all unique elements!\n",
    "        True '''\n",
    "        \n",
    "def unique_element(lst):\n",
    "    return len(lst) == len(set(lst))\n",
    "\n",
    "# Test data\n",
    "data1 = [3, 7, 4, 6, 8, 2, 1, 4, 10, 11, 14, 12, 16, 17]\n",
    "data2 = [2, 4, 6, 8, 10, 12, 14]\n",
    "\n",
    "print(\"Is the said list contains all unique elements!\")\n",
    "print(unique_element(data1)) \n",
    "\n",
    "print(\"Is the said list contains all unique elements!\")\n",
    "print(unique_element(data2))     \n",
    "        \n",
    "        "
   ]
  },
  {
   "cell_type": "code",
   "execution_count": 32,
   "metadata": {},
   "outputs": [
    {
     "name": "stdout",
     "output_type": "stream",
     "text": [
      "Sort the said list of lists by a given index ( Index = 0 ) of the inner list\n",
      "[('bala', 97, 96), ('boss', 94, 98), ('kumar', 91, 94), ('siva', 98, 99)]\n",
      "\n",
      "Sort the said list of lists by a given index ( Index = 2 ) of the inner list\n",
      "[('kumar', 91, 94), ('bala', 97, 96), ('boss', 94, 98), ('siva', 98, 99)]\n"
     ]
    }
   ],
   "source": [
    "# ''' 8. Write a Python program to sort a list of lists by a given index of the inner list. \n",
    "#     Data:\n",
    "#         [('siva', 98, 99), ('bala', 97, 96), ('kumar', 91, 94), ('boss', 94, 98)]\n",
    "#     Expected Output:\n",
    "#         Sort the said list of lists by a given index ( Index =  0 ) of the inner list\n",
    "#         [('bala', 97, 96), ('boss', 94, 98), ('kumar', 91, 94), ('siva', 98, 99)]\n",
    "\n",
    "#         Sort the said list of lists by a given index ( Index =  2 ) of the inner list\n",
    "#         [('kumar', 91, 94), ('bala', 97, 96), ('boss', 94, 98), ('siva', 98, 99)] '''\n",
    "        \n",
    "        \n",
    "data = [('siva', 98, 99), ('bala', 97, 96), ('kumar', 91, 94), ('boss', 94, 98)]\n",
    "\n",
    "def sort_by_index(list_of_tuples, idx):\n",
    "    # Use sorted() with a key that extracts the element at index idx\n",
    "    return sorted(list_of_tuples, key=lambda x: x[idx])\n",
    "\n",
    "index = 0\n",
    "print(f\"Sort the said list of lists by a given index ( Index = {index} ) of the inner list\")\n",
    "print(sort_by_index(data, index))\n",
    "\n",
    "print()\n",
    "\n",
    "index = 2\n",
    "print(f\"Sort the said list of lists by a given index ( Index = {index} ) of the inner list\")\n",
    "print(sort_by_index(data, index))        \n",
    "        "
   ]
  },
  {
   "cell_type": "code",
   "execution_count": 31,
   "metadata": {},
   "outputs": [
    {
     "name": "stdout",
     "output_type": "stream",
     "text": [
      " Remove all elements from 'x' present in 'y':\n",
      " [1, 2, 3, 6, 8, 10]\n"
     ]
    }
   ],
   "source": [
    "# ''' 9. Write a Python program to remove those elements from a given list that are present in the another list. \n",
    "#     Data:\n",
    "#         x: [1, 2, 3, 4, 5, 6, 7, 8, 9, 10]\n",
    "#         y: [5, 4, 7, 9]\n",
    "#     Expected Output:\n",
    "#         Remove all elements from 'x' present in 'y:\n",
    "#         [1, 2, 3, 6, 8, 10] '''\n",
    "        \n",
    "x=[1, 2, 3, 4, 5, 6, 7, 8, 9, 10]\n",
    "y=[5, 4, 7, 9]  \n",
    "res=[]\n",
    "for i in x:\n",
    "    if i not in y:\n",
    "        res.append(i)\n",
    "print(\" Remove all elements from 'x' present in 'y':\\n\", res)\n",
    "        \n",
    "        "
   ]
  },
  {
   "cell_type": "code",
   "execution_count": null,
   "metadata": {},
   "outputs": [],
   "source": [
    "# ''' 10. Write a Python program to find the difference between elements (n+1th - nth) from a given list. \n",
    "#     Data:\n",
    "#         x1 = [3, 6, 2, 7, 9, 23, 6, 12, 24]\n",
    "#     Expected Output:\n",
    "#         Difference between elements (n+1th – nth) of the said list :\n",
    "#         [3, -4, 5, 2, 14, -17, 6, 12] '''\n",
    "        \n",
    "        \n",
    "        \n",
    "        "
   ]
  },
  {
   "cell_type": "code",
   "execution_count": 29,
   "metadata": {},
   "outputs": [
    {
     "name": "stdout",
     "output_type": "stream",
     "text": [
      "Substring to search: ugu\n",
      "Check if a substring presents in the said list of string values: True\n",
      "\n",
      "Substring to search: alaya\n",
      "Check if a substring presents in the said list of string values: False\n"
     ]
    }
   ],
   "source": [
    "''' 11. Write a Python program to check whether a substring presents in the given list. \n",
    "    Data:\n",
    "        ['Kannada', 'Telugu', 'Hindi', 'Tamizh', 'Odia']\n",
    "    Expected Output:\n",
    "        Substring to search: ugu\n",
    "        Check if a substring presents in the said list of string values: True\n",
    "        \n",
    "        Substring to search: alaya\n",
    "        Check if a substring presents in the said list of string values: False '''\n",
    "        \n",
    "        \n",
    "languages = ['Kannada', 'Telugu', 'Hindi', 'Tamizh', 'Odia']\n",
    "def is_substring_present(lst, substring):\n",
    "    return any(substring in item for item in lst)\n",
    "substring1 = 'ugu'\n",
    "print(f\"Substring to search: {substring1}\")\n",
    "print(\"Check if a substring presents in the said list of string values:\", is_substring_present(languages, substring1))\n",
    "print()\n",
    "substring2 = 'alaya'\n",
    "print(f\"Substring to search: {substring2}\")\n",
    "print(\"Check if a substring presents in the said list of string values:\", is_substring_present(languages, substring2))\n",
    "        "
   ]
  },
  {
   "cell_type": "code",
   "execution_count": 32,
   "metadata": {},
   "outputs": [
    {
     "name": "stdout",
     "output_type": "stream",
     "text": [
      "['Soverign', 'Secular', 'Republic']\n"
     ]
    }
   ],
   "source": [
    "''' 12. Write a Python program to create a new list by taking alternate elements from a given list.\n",
    "    Data:\n",
    "        ['Soverign', 'Socialist', 'Secular', 'Democratic', 'Republic']\n",
    "    Expected Output:\n",
    "        ['Soverign', 'Secular', 'Republic'] '''\n",
    "        \n",
    "lst= ['Soverign', 'Socialist', 'Secular', 'Democratic', 'Republic'] \n",
    "res=[]\n",
    "index_number=0\n",
    "for i in lst:\n",
    "    if index_number % 2 == 0:\n",
    "        res.append(i)\n",
    "    index_number+=1\n",
    "print(res)\n",
    "        \n",
    "        \n",
    "        "
   ]
  },
  {
   "cell_type": "code",
   "execution_count": null,
   "metadata": {},
   "outputs": [],
   "source": [
    "''' 13. Write a Python program to find the nested lists elements which are present in another list. \n",
    "    Data:\n",
    "        [1, 2, 3, 4, 5, 6, 7, 8, 9, 10, 11, 12, 13, 14]\n",
    "        [[11, 18, 23, 25, 42], [7, 11, 18, 24, 28], [1, 5, 8, 18, 15, 16]]\n",
    "    Expected Output:\n",
    "        Intersection of said nested lists:\n",
    "        [[11], [7, 11], [1, 5, 8]] '''\n",
    "        \n",
    "        \n",
    "        \n",
    "        "
   ]
  },
  {
   "cell_type": "code",
   "execution_count": 28,
   "metadata": {},
   "outputs": [
    {
     "name": "stdout",
     "output_type": "stream",
     "text": [
      "Common element(s) in nested lists:\n",
      "[18]\n"
     ]
    }
   ],
   "source": [
    "# ''' 14. Write a Python program to find common element(s) from the given nested lists. \n",
    "#     Data:\n",
    "#         Original lists:\n",
    "#         [[11, 18, 23, 25, 42], [7, 11, 18, 24, 28], [1, 5, 8, 18, 15, 16]]\n",
    "#     Expected Output:\n",
    "#         Common element(s) in nested lists:\n",
    "#         [18] '''\n",
    "nested_lists =  [[11, 18, 23, 25, 42], [7, 11, 18, 24, 28], [1, 5, 8, 18, 15, 16]]       \n",
    "common_elements = set(nested_lists[0])\n",
    "for lst in nested_lists[1:]:\n",
    "    common_elements &= set(lst)\n",
    "\n",
    "print(\"Common element(s) in nested lists:\")\n",
    "print(list(common_elements))      \n",
    "        \n"
   ]
  },
  {
   "cell_type": "code",
   "execution_count": 23,
   "metadata": {},
   "outputs": [
    {
     "name": "stdout",
     "output_type": "stream",
     "text": [
      "['kserus', 'ramuk', 'avis', 'ssob', 'alab']\n"
     ]
    }
   ],
   "source": [
    "# ''' 15. Write a Python program to print reverse strings of strings that are present in the given list. \n",
    "#     Data:\n",
    "#         ['suresk', 'kumar', 'siva', 'boss', 'bala']\n",
    "#     Expected Output:\n",
    "#         Reverse strings of the said given list:\n",
    "#         ['kserus', 'ramuk', 'avis', 'ssob', 'alab'] '''\n",
    "        \n",
    "data = ['suresk', 'kumar', 'siva', 'boss', 'bala']\n",
    "reverse_strings = [i[::-1] for i in data]\n",
    "print(reverse_strings)\n",
    "        \n",
    "        "
   ]
  },
  {
   "cell_type": "code",
   "execution_count": 24,
   "metadata": {},
   "outputs": [
    {
     "name": "stdout",
     "output_type": "stream",
     "text": [
      "Maximum and minimum product from the pairs of the said tuple of list:\n",
      "(36, 8)\n"
     ]
    }
   ],
   "source": [
    "# ''' 16. Write a Python program to find the maximum and minimum product from the pairs of tuple in a given list. \n",
    "#     Data:\n",
    "#         [(2, 7), (2, 6), (1, 8), (4, 9)]\n",
    "#     Expected Output:\n",
    "#         Maximum and minimum product from the pairs of the said tuple of list:\n",
    "#         (36, 8) '''\n",
    "pairs = [(2, 7), (2, 6), (1, 8), (4, 9)]\n",
    "first_product = pairs[0][0] * pairs[0][1]\n",
    "min_product = max_product = first_product\n",
    "\n",
    "for a, b in pairs[1:]:\n",
    "    product = a * b\n",
    "    if product > max_product:\n",
    "        max_product = product\n",
    "    if product < min_product:\n",
    "        min_product = product\n",
    "\n",
    "print(\"Maximum and minimum product from the pairs of the said tuple of list:\")\n",
    "print((max_product, min_product))\n",
    "    \n",
    "\n",
    "    "
   ]
  },
  {
   "cell_type": "code",
   "execution_count": 25,
   "metadata": {},
   "outputs": [
    {
     "name": "stdout",
     "output_type": "stream",
     "text": [
      "Product of the unique numbers of the said list:  12000000\n"
     ]
    }
   ],
   "source": [
    "''' 17. Write a Python program to calculate the product of the unique numbers from the given list. \n",
    "    Data:\n",
    "        [10, 20, 30, 40, 30, 50, 50, 40]\n",
    "    Expected Output:\n",
    "        Product of the unique numbers of the said list:  12000000 '''\n",
    "            \n",
    "lst=[10, 20, 30, 40, 30, 50, 50, 40]\n",
    "new_lst=set(lst)\n",
    "product=1\n",
    "for i in new_lst:\n",
    "    product*=i\n",
    "print(\"Product of the unique numbers of the said list: \", product)\n",
    "        \n",
    "    \n",
    "            \n",
    "            "
   ]
  },
  {
   "cell_type": "code",
   "execution_count": 21,
   "metadata": {},
   "outputs": [
    {
     "name": "stdout",
     "output_type": "stream",
     "text": [
      "Interleave multiple lists:\n",
      "[1, 10, 100, 2, 20, 200, 3, 30, 300, 4, 40, 400, 5, 50, 500, 6, 60, 600, 7, 70, 700]\n"
     ]
    }
   ],
   "source": [
    "''' 18. Write a Python program to interleave multiple lists of same length. \n",
    "    Data:\n",
    "        x: [1, 2, 3, 4, 5, 6, 7]\n",
    "        y: [10, 20, 30, 40, 50, 60, 70]\n",
    "        z: [100, 200, 300, 400, 500, 600, 700]\n",
    "    Expected Output:\n",
    "        Interleave multiple lists:\n",
    "        [1, 10, 100, 2, 20, 200, 3, 30, 300, 4, 40, 400, 5, 50, 500, 6, 60, 600, 7, 70, 700] '''\n",
    "        \n",
    "        \n",
    "x = [1, 2, 3, 4, 5, 6, 7]\n",
    "y = [10, 20, 30, 40, 50, 60, 70]\n",
    "z = [100, 200, 300, 400, 500, 600, 700]\n",
    "\n",
    "interleaved = []\n",
    "for i in range(len(x)):\n",
    "    interleaved.append(x[i])\n",
    "    interleaved.append(y[i])\n",
    "    interleaved.append(z[i])\n",
    "print(\"Interleave multiple lists:\")\n",
    "print(interleaved)\n",
    "        "
   ]
  },
  {
   "cell_type": "code",
   "execution_count": 19,
   "metadata": {},
   "outputs": [
    {
     "name": "stdout",
     "output_type": "stream",
     "text": [
      "['#', 'color', '@']\n",
      "['suresk', '', 'siva', '', 'bala']\n"
     ]
    }
   ],
   "source": [
    "''' 19. Write a Python program to remove those words from the given list which contains a special character or a specified string. \n",
    "    Data:\n",
    "        ['suresk', 'kumar#', 'siva', 'boss@', 'bala']\n",
    "    Expected Output:\n",
    "        Character list:\n",
    "        ['#', 'color', '@']\n",
    "\n",
    "        New list:\n",
    "        ['suresk', '', 'siva', '', 'bala'] '''\n",
    "        \n",
    "        \n",
    "lst=['suresk', 'kumar#', 'siva', 'boss@', 'bala']\n",
    "char_lst= ['#', 'color', '@']\n",
    "new_list=[]\n",
    "for i in lst:\n",
    "    if any(j in i for j in char_lst):\n",
    "        new_list.append(\"\")\n",
    "    else:\n",
    "        new_list.append(i)\n",
    "print(char_lst)\n",
    "print(new_list)\n",
    "\n",
    "        "
   ]
  },
  {
   "cell_type": "code",
   "execution_count": 6,
   "metadata": {},
   "outputs": [
    {
     "name": "stdout",
     "output_type": "stream",
     "text": [
      "Range: 8 , 10 \n",
      "Sum of the specified range:\n",
      "29\n"
     ]
    }
   ],
   "source": [
    "# ''' 20. Write a Python program to calculate the sum of the numbers in a list between the indices of a specified range. \n",
    "#     Data:\n",
    "#         [4, 1, 9, 6, 8, 3, 1, 9, 10, 11, 8, 12]\n",
    "#     Expected Output:\n",
    "#         Range: 8 , 10\n",
    "#         Sum of the specified range:\n",
    "#         29 '''\n",
    "lst=[4, 1, 9, 6, 8, 3, 1, 9, 10, 11, 8, 12]\n",
    "start_index=8\n",
    "end_index=10\n",
    "print(\"Range:\", start_index, \",\", end_index, \"\\nSum of the specified range:\")\n",
    "print(sum(lst[start_index:end_index+1]))\n",
    "        \n",
    "        \n",
    "        "
   ]
  }
 ],
 "metadata": {
  "kernelspec": {
   "display_name": "Python 3 (ipykernel)",
   "language": "python",
   "name": "python3"
  },
  "language_info": {
   "codemirror_mode": {
    "name": "ipython",
    "version": 3
   },
   "file_extension": ".py",
   "mimetype": "text/x-python",
   "name": "python",
   "nbconvert_exporter": "python",
   "pygments_lexer": "ipython3",
   "version": "3.12.7"
  }
 },
 "nbformat": 4,
 "nbformat_minor": 4
}
