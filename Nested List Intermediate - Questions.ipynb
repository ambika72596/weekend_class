{
 "cells": [
  {
   "cell_type": "markdown",
   "metadata": {},
   "source": [
    "# Nested List Intermediate Questions"
   ]
  },
  {
   "cell_type": "code",
   "execution_count": 47,
   "metadata": {},
   "outputs": [
    {
     "name": "stdout",
     "output_type": "stream",
     "text": [
      "[[0, 1, 2, 3, 4], [0, 1, 2, 3, 4], [0, 1, 2, 3, 4], [0, 1, 2, 3, 4], [0, 1, 2, 3, 4]]\n"
     ]
    }
   ],
   "source": [
    "# 1. Write a python program to create nested list of matrix.\n",
    "#     matrix = [[0, 1, 2, 3, 4],[0, 1, 2, 3, 4],[0, 1, 2, 3, 4],[0, 1, 2, 3, 4],[0, 1, 2, 3, 4]]\n",
    "matrix = []\n",
    "\n",
    "\n",
    "for i in range(5):\n",
    "    row = []\n",
    "    for j in range(5):\n",
    "        row.append(j)\n",
    "    matrix.append(row)\n",
    " \n",
    "print(matrix)\n",
    "\n",
    "    \n",
    "    \n",
    "    "
   ]
  },
  {
   "cell_type": "code",
   "execution_count": 43,
   "metadata": {},
   "outputs": [
    {
     "name": "stdout",
     "output_type": "stream",
     "text": [
      "[1, 2, 3, 4, 5, 6, 7, 8, 9]\n"
     ]
    }
   ],
   "source": [
    "# 2. Write a python program to flatten a given nested list.\n",
    "#     Data:\n",
    "#         x = [[1, 2, 3], [4, 5, 6], [7, 8, 9]]\n",
    "#     Expected Output: \n",
    "#         [1, 2, 3, 4, 5, 6, 7, 8, 9]\n",
    "x = [[1, 2, 3], [4, 5, 6], [7, 8, 9]]\n",
    "lst=[]\n",
    "for i in x:\n",
    "    for j in i:\n",
    "        lst.append(j)\n",
    "print(lst)            \n",
    "        "
   ]
  },
  {
   "cell_type": "code",
   "execution_count": 55,
   "metadata": {},
   "outputs": [
    {
     "name": "stdout",
     "output_type": "stream",
     "text": [
      "['boss', 'sai', 'kumar', 'siva', 'balu']\n"
     ]
    }
   ],
   "source": [
    "# 3. Write a python program to flatten a given 2-D list and only include those strings whose length are less than 6.\n",
    "#     Data:\n",
    "#         name = [[\"boss\", \"suresh\", \"karthi\"], [\"dinesh\", \"sai\", \"kumar\"], [\"murugan\", \"siva\", \"balu\"]]\n",
    "#     Expected Output:\n",
    "#         ['boss', 'sai', 'kumar', 'siva', 'balu']\n",
    "\n",
    "name = [[\"boss\", \"suresh\", \"karthi\"], [\"dinesh\", \"sai\", \"kumar\"], [\"murugan\", \"siva\", \"balu\"]]\n",
    "result = []\n",
    "for i in name:\n",
    "    for j in i:\n",
    "        if len(j)<6:\n",
    "            result.append(j)\n",
    "\n",
    "print(result)      \n",
    "        \n",
    "        "
   ]
  },
  {
   "cell_type": "code",
   "execution_count": 60,
   "metadata": {},
   "outputs": [
    {
     "name": "stdout",
     "output_type": "stream",
     "text": [
      "['suresh']\n",
      "['boss']\n",
      "['kumar']\n"
     ]
    }
   ],
   "source": [
    "# 4. Write a Python program to print a nested list, each list in a new line.\n",
    "#     Data:\n",
    "#         name = [['suresh'], ['boss'], ['kumar']]\n",
    "#     Expected Output:\n",
    "#         ['suresh']\n",
    "#         ['boss']\n",
    "#         ['kumar']\n",
    "name = [['suresh'], ['boss'], ['kumar']]\n",
    "\n",
    "for i in name:\n",
    "    print(i)\n",
    "\n",
    "    \n",
    "        \n",
    "        \n",
    "        \n",
    "        \n",
    "        "
   ]
  },
  {
   "cell_type": "code",
   "execution_count": 61,
   "metadata": {},
   "outputs": [
    {
     "name": "stdout",
     "output_type": "stream",
     "text": [
      "[['a', 'd', 'g', 'j', 'm'], ['b', 'e', 'h', 'k', 'n'], ['c', 'f', 'i', 'l']]\n"
     ]
    }
   ],
   "source": [
    "# 5. Write a Python program to split a list after every nth element.\n",
    "#     Data:\n",
    "#         ['a', 'b', 'c', 'd', 'e', 'f', 'g', 'h', 'i', 'j', 'k', 'l', 'm', 'n']\n",
    "#     Expected Output:\n",
    "#         [['a', 'd', 'g', 'j', 'm'], ['b', 'e', 'h', 'k', 'n'], ['c', 'f', 'i', 'l']]\n",
    "        \n",
    "data = ['a', 'b', 'c', 'd', 'e', 'f', 'g', 'h', 'i', 'j', 'k', 'l', 'm', 'n']\n",
    "n = 3\n",
    "\n",
    "result = [[] for _ in range(n)]\n",
    "\n",
    "for idx, value in enumerate(data):\n",
    "    result[idx % n].append(value)\n",
    "\n",
    "print(result)   \n",
    "        \n",
    "        "
   ]
  },
  {
   "cell_type": "code",
   "execution_count": 62,
   "metadata": {},
   "outputs": [
    {
     "name": "stdout",
     "output_type": "stream",
     "text": [
      "[10, 11, 12]\n"
     ]
    }
   ],
   "source": [
    "# 6. Write a Python program to find the list in a list of lists whose sum of elements is the highest. \n",
    "#     Data:\n",
    "#         [1,2,3], [4,5,6], [7,8,9], [10,11,12]\n",
    "#     Expected Output: \n",
    "#         [10, 11, 12]\n",
    "\n",
    "data = [[1,2,3], [4,5,6], [7,8,9], [10,11,12]]\n",
    "\n",
    "max_sum = float('-inf')\n",
    "max_list = None\n",
    "\n",
    "for sublist in data:\n",
    "    current_sum = sum(sublist)\n",
    "    if current_sum > max_sum:\n",
    "        max_sum = current_sum\n",
    "        max_list = sublist\n",
    "\n",
    "print(max_list)\n",
    "        \n",
    "        \n",
    "        \n",
    "        "
   ]
  },
  {
   "cell_type": "code",
   "execution_count": 24,
   "metadata": {},
   "outputs": [
    {
     "name": "stdout",
     "output_type": "stream",
     "text": [
      "[[10, 20], [40], [30, 56, 25], [33]]\n"
     ]
    }
   ],
   "source": [
    "# 7. Write a Python program to remove duplicates from a list of lists. \n",
    "#     Data: \n",
    "#         [[10, 20], [40], [30, 56, 25], [10, 20], [33], [40]]\n",
    "#     Expected Output: \n",
    "#         [[10, 20], [30, 56, 25], [33], [40]]\n",
    "data= [[10, 20], [40], [30, 56, 25], [10, 20], [33], [40]]\n",
    "res=[]\n",
    "for i in data:\n",
    "    if i not in res:\n",
    "        res.append(i)\n",
    "print(res)\n",
    " \n",
    "        \n",
    "        "
   ]
  },
  {
   "cell_type": "code",
   "execution_count": 37,
   "metadata": {},
   "outputs": [
    {
     "name": "stdout",
     "output_type": "stream",
     "text": [
      "[[0, 0], [0, 0], [0, 0]]\n"
     ]
    }
   ],
   "source": [
    "# 8. Write a Python program to create a multidimensional list (list of lists) with zeros.\n",
    "#     Expected Output:\n",
    "#         [[0, 0], [0, 0], [0, 0]]\n",
    "matrix=[]\n",
    "for i in range(3):\n",
    "    row=[]\n",
    "    for j in range(2):\n",
    "        row.append(0)\n",
    "\n",
    "    matrix.append(row)\n",
    "print(matrix)\n",
    "\n",
    "        \n",
    "        \n",
    "        \n",
    "        "
   ]
  },
  {
   "cell_type": "code",
   "execution_count": 63,
   "metadata": {},
   "outputs": [
    {
     "name": "stdout",
     "output_type": "stream",
     "text": [
      "[[1, 2, 3], [1, 2, 3], [1, 2, 3]]\n"
     ]
    }
   ],
   "source": [
    "# 9. Write a Python program to create a 3X3 grid with numbers which is a nested list.\n",
    "#     Expected Output:\n",
    "#         [[1, 2, 3], [1, 2, 3], [1, 2, 3]]\n",
    "grid = []\n",
    "\n",
    "for _ in range(3):\n",
    "    grid.append([1, 2, 3])\n",
    "\n",
    "print(grid)        \n",
    "        \n",
    "        \n",
    "        "
   ]
  },
  {
   "cell_type": "code",
   "execution_count": 64,
   "metadata": {},
   "outputs": [
    {
     "name": "stdout",
     "output_type": "stream",
     "text": [
      "[[1, 3, 2, 4], [5, 7, 6, 8], [9, 11, 10, 12, 14]]\n"
     ]
    }
   ],
   "source": [
    "# 10. Write a Python program to Zip two given list of lists into a single nested list. \n",
    "#      Data:\n",
    "#         [[1, 3], [5, 7], [9, 11]]\n",
    "#         [[2, 4], [6, 8], [10, 12, 14]]\n",
    "#     Expected Output:\n",
    "#         [[1, 3, 2, 4], [5, 7, 6, 8], [9, 11, 10, 12, 14]]\n",
    "        \n",
    "list1 = [[1, 3], [5, 7], [9, 11]]\n",
    "list2 = [[2, 4], [6, 8], [10, 12, 14]]\n",
    "\n",
    "result = []\n",
    "\n",
    "for sublist1, sublist2 in zip(list1, list2):\n",
    "    result.append(sublist1 + sublist2)\n",
    "\n",
    "print(result)        \n",
    "        \n",
    "        "
   ]
  }
 ],
 "metadata": {
  "kernelspec": {
   "display_name": "Python 3 (ipykernel)",
   "language": "python",
   "name": "python3"
  },
  "language_info": {
   "codemirror_mode": {
    "name": "ipython",
    "version": 3
   },
   "file_extension": ".py",
   "mimetype": "text/x-python",
   "name": "python",
   "nbconvert_exporter": "python",
   "pygments_lexer": "ipython3",
   "version": "3.12.7"
  }
 },
 "nbformat": 4,
 "nbformat_minor": 4
}
