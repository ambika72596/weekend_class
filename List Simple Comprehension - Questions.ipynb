{
 "cells": [
  {
   "cell_type": "markdown",
   "metadata": {},
   "source": [
    "# List Simple Comprehension Questions"
   ]
  },
  {
   "cell_type": "code",
   "execution_count": 1,
   "metadata": {},
   "outputs": [
    {
     "name": "stdout",
     "output_type": "stream",
     "text": [
      "['c', 'o', 'n', 's', 't', 'i', 't', 'u', 'i', 't', 'i', 'o', 'n']\n"
     ]
    }
   ],
   "source": [
    "# 1. Write a Python program to iterate through a string Using List Comprehension.\n",
    "#     Data:\n",
    "#         s = \"constituition\"\n",
    "#     Expected Output:\n",
    "#         ['c', 'o', 'n', 's', 't', 'i', 't', 'u', 'i', 't', 'i', 'o', 'n']\n",
    "s = \"constituition\"\n",
    "result = [char for char in s]\n",
    "print(result)       \n",
    "        "
   ]
  },
  {
   "cell_type": "code",
   "execution_count": 2,
   "metadata": {},
   "outputs": [
    {
     "name": "stdout",
     "output_type": "stream",
     "text": [
      "[0, 2, 4, 6, 8, 10, 12, 14, 16, 18, 20]\n"
     ]
    }
   ],
   "source": [
    "# 2. Write a Python program to print the even numbers from 0 to 20 using list Comprehension.\n",
    "#     Expected Output:\n",
    "#         [0, 2, 4, 6, 8, 10, 12, 14, 16, 18, 20]\n",
    "        \n",
    "n1 = [num for num in range(0, 21) if num % 2 == 0]\n",
    "print(n1)   \n",
    "        "
   ]
  },
  {
   "cell_type": "code",
   "execution_count": 10,
   "metadata": {},
   "outputs": [
    {
     "name": "stdout",
     "output_type": "stream",
     "text": [
      "[0, 10, 20, 30, 40, 50, 60, 70, 80, 90, 100]\n"
     ]
    }
   ],
   "source": [
    "# 3. Write a Python program to print the numbers from 0 to 100 which are divisible by 2 or 5 using list Comprehension.\n",
    "#     Expected Output:\n",
    "#     [0, 10, 20, 30, 40, 50, 60, 70, 80, 90, 100]\n",
    "    \n",
    "\n",
    "n1 = [num for num in range(0, 101) if num % 2 == 0 and num % 5 == 0 ]\n",
    "print(n1)"
   ]
  },
  {
   "cell_type": "code",
   "execution_count": 12,
   "metadata": {},
   "outputs": [
    {
     "name": "stdout",
     "output_type": "stream",
     "text": [
      "[7, 25, 27]\n"
     ]
    }
   ],
   "source": [
    "# 5. Write a Python program to print the numbers of a specified list after removing even numbers from it.\n",
    "#     Data:\n",
    "#         m = [7, 8, 120, 25, 44, 20, 27]\n",
    "#     Expected Output:\n",
    "#         [7, 25, 27]\n",
    "        \n",
    "m = [7, 8, 120, 25, 44, 20, 27]\n",
    "result = [num for num in m if num % 2 != 0]\n",
    "print(result)      \n",
    "        \n",
    "        "
   ]
  },
  {
   "cell_type": "code",
   "execution_count": 14,
   "metadata": {},
   "outputs": [
    {
     "name": "stdout",
     "output_type": "stream",
     "text": [
      "['l1', 'm1', 'l2', 'm2', 'l3', 'm3', 'l4', 'm4']\n"
     ]
    }
   ],
   "source": [
    "# 6. Write a Python program to create a list by concatenating a given list with numbers ranges from 1 to n.\n",
    "#     Data:\n",
    "#         list : ['l', 'm']\n",
    "#         n = 4\n",
    "#     Expected Output:\n",
    "#         ['l1', 'm1', 'l2', 'm2', 'l3', 'm3', 'l4', 'm4']\n",
    "lst = ['l', 'm']\n",
    "n = 4\n",
    "\n",
    "result = [s + str(i) for i in range(1, n+1) for s in lst]\n",
    "print(result)    \n",
    "        \n",
    "        \n",
    "        "
   ]
  },
  {
   "cell_type": "code",
   "execution_count": 15,
   "metadata": {},
   "outputs": [
    {
     "name": "stdout",
     "output_type": "stream",
     "text": [
      "['c', 'marvel', 'c', 'boss', 'c', 'siva']\n"
     ]
    }
   ],
   "source": [
    "# 7. Write a Python program to insert an element before each element of a list.\n",
    "#     Data:\n",
    "#         x = ['marvel', 'boss', 'siva']\n",
    "#     Expected Output:\n",
    "#         ['c', 'marvel', 'c', 'boss', 'c', 'siva']        \n",
    "x = ['marvel', 'boss', 'siva']\n",
    "result = [item for elem in x for item in ('c', elem)]\n",
    "print(result)     \n",
    "        "
   ]
  },
  {
   "cell_type": "code",
   "execution_count": 21,
   "metadata": {},
   "outputs": [
    {
     "name": "stdout",
     "output_type": "stream",
     "text": [
      "['Red']\n",
      "['Green']\n",
      "['Black']\n"
     ]
    },
    {
     "data": {
      "text/plain": [
       "[None, None, None]"
      ]
     },
     "execution_count": 21,
     "metadata": {},
     "output_type": "execute_result"
    }
   ],
   "source": [
    "# 8. Write a Python program to print each list on a new line from a given nested list.\n",
    "#     Data:\n",
    "#         x = [['Red'], ['Green'], ['Black']]\n",
    "#     Expected Output:\n",
    "#         ['Red']\n",
    "#         ['Green']\n",
    "#         ['Black']       \n",
    "        \n",
    "x = [['Red'], ['Green'], ['Black']]  \n",
    "[print(i) for i in x]\n",
    "        "
   ]
  },
  {
   "cell_type": "code",
   "execution_count": 22,
   "metadata": {},
   "outputs": [
    {
     "name": "stdout",
     "output_type": "stream",
     "text": [
      "[['a', 'd', 'g', 'j', 'm'], ['b', 'e', 'h', 'k', 'n'], ['c', 'f', 'i', 'l']]\n"
     ]
    }
   ],
   "source": [
    "# 9. Write a Python program to split a list after every nth element.\n",
    "#     Data:\n",
    "#         list: ['a', 'b', 'c', 'd', 'e', 'f', 'g', 'h', 'i', 'j', 'k', 'l', 'm', 'n']\n",
    "#     Expected Output:\n",
    "#         [['a', 'd', 'g', 'j', 'm'], ['b', 'e', 'h', 'k', 'n'], ['c', 'f', 'i', 'l']]\n",
    "lst = ['a', 'b', 'c', 'd', 'e', 'f', 'g', 'h', 'i', 'j', 'k', 'l', 'm', 'n']\n",
    "n = 3\n",
    "result = [lst[i::n] for i in range(n)]\n",
    "print(result)       \n",
    "        \n",
    "        \n",
    "        "
   ]
  },
  {
   "cell_type": "code",
   "execution_count": 24,
   "metadata": {},
   "outputs": [
    {
     "name": "stdout",
     "output_type": "stream",
     "text": [
      "False\n",
      "True\n"
     ]
    }
   ],
   "source": [
    "# 10. Write a Python program to check whether all elements in a list are equal to the specified string.\n",
    "#     Data:\n",
    "x = [\"green\", \"orange\", \"black\", \"white\"]\n",
    "y = [\"green\", \"green\", \"green\", \"green\"]\n",
    "#     Expected Output:\n",
    "#         False\n",
    "#         True\n",
    "        \n",
    "print(all(element == \"green\" for element in x))  \n",
    "print(all(element == \"green\" for element in y))        \n",
    "        \n",
    "        "
   ]
  },
  {
   "cell_type": "code",
   "execution_count": 25,
   "metadata": {},
   "outputs": [
    {
     "name": "stdout",
     "output_type": "stream",
     "text": [
      "(6, 0)\n"
     ]
    }
   ],
   "source": [
    "# 11. Write a Python program to find a tuple from the list of tuple whose second value is the smallest.\n",
    "#     Data:\n",
    "#         x = [(4, 1), (1, 2), (6, 0)]\n",
    "#     Expected Output:\n",
    "#         (6, 0)        \n",
    "x = [(4, 1), (1, 2), (6, 0)]\n",
    "min_val = min(t[1] for t in x)\n",
    "result = [t for t in x if t[1] == min_val]\n",
    "print(result[0])       \n",
    "        "
   ]
  },
  {
   "cell_type": "code",
   "execution_count": 26,
   "metadata": {},
   "outputs": [
    {
     "name": "stdout",
     "output_type": "stream",
     "text": [
      "[{}, {}, {}, {}, {}]\n"
     ]
    }
   ],
   "source": [
    "# 12. Write a Python program to create a list of empty dictionaries.\n",
    "#     Data:\n",
    "#         n = 5\n",
    "#     Expected Output:\n",
    "#         [{}, {}, {}, {}, {}]\n",
    "n = 5\n",
    "result = [{} for _ in range(n)]\n",
    "print(result)      \n",
    "        "
   ]
  },
  {
   "cell_type": "code",
   "execution_count": 27,
   "metadata": {},
   "outputs": [
    {
     "name": "stdout",
     "output_type": "stream",
     "text": [
      "['boss1', 'boss2', 'boss3', 'boss4']\n"
     ]
    }
   ],
   "source": [
    "# 13. Write a Python program to insert a given string at the beginning of all items of a list.  \n",
    "#     Data:\n",
    "#         list : [1, 2, 3, 4]\n",
    "#         string : boss\n",
    "#     Expected Output:\n",
    "#         ['boss1', 'boss2', 'boss3', 'boss4']\n",
    "        \n",
    "lst = [1, 2, 3, 4]\n",
    "string = 'boss'\n",
    "\n",
    "out= [string + str(item) for item in lst]\n",
    "print(out)       \n",
    "        \n",
    "        "
   ]
  },
  {
   "cell_type": "code",
   "execution_count": 28,
   "metadata": {},
   "outputs": [
    {
     "name": "stdout",
     "output_type": "stream",
     "text": [
      "True\n"
     ]
    }
   ],
   "source": [
    "# 14. Write a Python program to check whether all the values in a list are > 200.\n",
    "#     Data:\n",
    "#         a = [220, 330, 500]\n",
    "#     Expected Output:\n",
    "#         True \n",
    "        \n",
    "a = [220, 330, 500]\n",
    "result = all(x > 200 for x in a)\n",
    "print(result)        "
   ]
  },
  {
   "cell_type": "code",
   "execution_count": 12,
   "metadata": {},
   "outputs": [],
   "source": [
    "15. Write a Python program to check whether all the dictionaries in a list are empty or not.\n",
    "    Data:\n",
    "        x = [{},{},{}]\n",
    "        y = [{1,2},{},{}]   \n",
    "    Expected Output:\n",
    "        True\n",
    "        False\n",
    "        \n",
    "        "
   ]
  },
  {
   "cell_type": "code",
   "execution_count": 29,
   "metadata": {},
   "outputs": [
    {
     "name": "stdout",
     "output_type": "stream",
     "text": [
      "['bala', 'siva', 'sai']\n"
     ]
    }
   ],
   "source": [
    "    # 16. Write a Python program to print a specified list after removing the 0th, 4th and 5th elements.\n",
    "    #     Data:\n",
    "    #         List : ['baskar', 'bala', 'siva', 'sai', 'suresh', 'kumar']\n",
    "    #     Expected Output:\n",
    "    #         ['bala', 'siva', 'sai']\n",
    "    \n",
    "lst = ['baskar', 'bala', 'siva', 'sai', 'suresh', 'kumar']\n",
    "removing = {0, 4, 5}\n",
    "\n",
    "output = [item for i, item in enumerate(lst) if i not in removing]\n",
    "print(output)    \n",
    "    "
   ]
  },
  {
   "cell_type": "code",
   "execution_count": 32,
   "metadata": {},
   "outputs": [
    {
     "name": "stdout",
     "output_type": "stream",
     "text": [
      "['Even', 'Odd', 'Even', 'Odd', 'Even', 'Odd', 'Even', 'Odd', 'Even', 'Odd']\n"
     ]
    }
   ],
   "source": [
    "# 17. Write a Python program to print the odd numbers as 'Odd' and even numbers as 'even' within the range(10).\n",
    "#     Expected Output:\n",
    "#         ['Even', 'Odd', 'Even', 'Odd', 'Even', 'Odd', 'Even', 'Odd', 'Even', 'Odd']       \n",
    "result = ['Even' if i % 2 == 0 else 'Odd' for i in range(10)]\n",
    "print(result)\n",
    "        "
   ]
  },
  {
   "cell_type": "code",
   "execution_count": 14,
   "metadata": {},
   "outputs": [],
   "source": [
    "18. Write a Python program to combine all the first element of a list of lists into a new list and \n",
    "        all the second element of a list of lists into another list. And print the two new lists as a list of lists.\n",
    "    Data:\n",
    "        x = [[1, 2], [3,4], [5,6], [7,8]]  \n",
    "    Expected Output:\n",
    "        [[1, 3, 5, 7], [2, 4, 6, 8]]\n",
    "        \n",
    "        \n",
    "        "
   ]
  },
  {
   "cell_type": "code",
   "execution_count": 33,
   "metadata": {},
   "outputs": [
    {
     "name": "stdout",
     "output_type": "stream",
     "text": [
      "['yes', 'no', 'idle', 'idle', 'idle']\n"
     ]
    }
   ],
   "source": [
    "# 20. Write a Python program to print 'yes' when value is 1, 'no' when value is 2 and for any other values print 'idle' for the given data.\n",
    "#     Data:\n",
    "#         l = [1, 2, 3, 4, 5] \n",
    "#     Expected Output:\n",
    "#         ['yes', 'no', 'idle', 'idle', 'idle']\n",
    "\n",
    "l = [1, 2, 3, 4, 5]\n",
    "out = ['yes' if x == 1 else 'no' if x == 2 else 'idle' for x in l]\n",
    "print(out)       \n",
    "        \n",
    "        "
   ]
  }
 ],
 "metadata": {
  "kernelspec": {
   "display_name": "Python 3 (ipykernel)",
   "language": "python",
   "name": "python3"
  },
  "language_info": {
   "codemirror_mode": {
    "name": "ipython",
    "version": 3
   },
   "file_extension": ".py",
   "mimetype": "text/x-python",
   "name": "python",
   "nbconvert_exporter": "python",
   "pygments_lexer": "ipython3",
   "version": "3.12.7"
  }
 },
 "nbformat": 4,
 "nbformat_minor": 4
}
